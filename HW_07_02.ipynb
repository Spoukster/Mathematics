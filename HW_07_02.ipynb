{
 "cells": [
  {
   "cell_type": "code",
   "execution_count": 1,
   "metadata": {},
   "outputs": [],
   "source": [
    "import numpy as np"
   ]
  },
  {
   "cell_type": "markdown",
   "metadata": {},
   "source": [
    "### Задание 1\n",
    "Решить линейную систему\n",
    "$\\begin{bmatrix} 1 & 2 & 3 \\\\ 4 & 0 & 6 \\\\ 7 & 8 & 9 \\end{bmatrix} \\cdot X = \\begin{bmatrix} 12 \\\\ 2 \\\\ 1 \\end{bmatrix}$"
   ]
  },
  {
   "cell_type": "code",
   "execution_count": 2,
   "metadata": {},
   "outputs": [
    {
     "data": {
      "text/plain": [
       "array([-9.2       ,  0.9       ,  6.46666667])"
      ]
     },
     "execution_count": 2,
     "metadata": {},
     "output_type": "execute_result"
    }
   ],
   "source": [
    "A = np.array([[1, 2, 3], [4, 0, 6], [7, 8, 9]])\n",
    "B = np.array([12, 2, 1])\n",
    "np.linalg.solve(A, B)"
   ]
  },
  {
   "cell_type": "markdown",
   "metadata": {},
   "source": [
    "### Задание 2\n",
    "Найдите псевдорешение:\n",
    "\n",
    "x + 2y – z = 1\n",
    "\n",
    "3x – 4y = 7\n",
    "\n",
    "8x – 5y + 2z = 12\n",
    "\n",
    "2x – 5z = 7\n",
    "\n",
    "11x +4y – 7z = 15"
   ]
  },
  {
   "cell_type": "code",
   "execution_count": 4,
   "metadata": {},
   "outputs": [
    {
     "data": {
      "text/plain": [
       "(array([ 1.13919353, -0.90498444, -0.9009803 ]),\n",
       " array([0.71523211]),\n",
       " 3,\n",
       " array([15.2817306 ,  9.59852942,  3.65197794]))"
      ]
     },
     "execution_count": 4,
     "metadata": {},
     "output_type": "execute_result"
    }
   ],
   "source": [
    "A = np.array([[1, 2, -1], [3, -4, 0], [8, -5, 2], [2, 0, -5], [11, 4, -7]])\n",
    "B = np.array([1, 7, 12, 7, 15])\n",
    "np.linalg.lstsq(A, B, rcond=-1)"
   ]
  },
  {
   "cell_type": "markdown",
   "metadata": {},
   "source": [
    "Посмотрим отклонения от реальных значений."
   ]
  },
  {
   "cell_type": "code",
   "execution_count": 6,
   "metadata": {},
   "outputs": [
    {
     "data": {
      "text/plain": [
       "array([-0.76979505,  0.03751835, -0.16349016, -0.21671144,  0.21805317])"
      ]
     },
     "execution_count": 6,
     "metadata": {},
     "output_type": "execute_result"
    }
   ],
   "source": [
    "np.dot(A, [ 1.13919353, -0.90498444, -0.9009803 ]) - B"
   ]
  },
  {
   "cell_type": "markdown",
   "metadata": {},
   "source": [
    "### Задание 3\n",
    "Сколько решений имеет линейная система $\\begin{bmatrix} 1 & 2 & 3 \\\\ 4 & 5 & 6 \\\\ 7 & 8 & 9 \\end{bmatrix} \\cdot X = \\begin{bmatrix} 12 \\\\ 2 \\\\ 1 \\end{bmatrix}$\n",
    "\n",
    "Если ноль – то измените вектор правой части так, чтобы система стала совместной, и решите ее.\n",
    "\n",
    "Просчитаем определитель этой матрицы."
   ]
  },
  {
   "cell_type": "code",
   "execution_count": 15,
   "metadata": {},
   "outputs": [
    {
     "data": {
      "text/plain": [
       "-9.51619735392994e-16"
      ]
     },
     "execution_count": 15,
     "metadata": {},
     "output_type": "execute_result"
    }
   ],
   "source": [
    "A = np.array([[1, 2, 3], [4, 5, 6], [7, 8, 9]])\n",
    "B = np.array([[12, 2, 1]])\n",
    "np.linalg.det(A)"
   ]
  },
  {
   "cell_type": "markdown",
   "metadata": {},
   "source": [
    "Конечно с погрешностью, но видим что определитель матрицы равен 0 (проверил вручную). Следовательно решения нет.\n",
    "Изменим правую часть. Для этого сделаем расширенную матрицу и сравним ранги."
   ]
  },
  {
   "cell_type": "code",
   "execution_count": 17,
   "metadata": {},
   "outputs": [
    {
     "name": "stdout",
     "output_type": "stream",
     "text": [
      "[[ 1  2  3 12]\n",
      " [ 4  5  6  2]\n",
      " [ 7  8  9  1]]\n"
     ]
    },
    {
     "data": {
      "text/plain": [
       "(2, 3)"
      ]
     },
     "execution_count": 17,
     "metadata": {},
     "output_type": "execute_result"
    }
   ],
   "source": [
    "C = np.concatenate((A,B.T), axis=1)\n",
    "print(C)\n",
    "np.linalg.matrix_rank(A), np.linalg.matrix_rank(C)"
   ]
  },
  {
   "cell_type": "code",
   "execution_count": null,
   "metadata": {},
   "outputs": [],
   "source": []
  }
 ],
 "metadata": {
  "kernelspec": {
   "display_name": "Python 3",
   "language": "python",
   "name": "python3"
  },
  "language_info": {
   "codemirror_mode": {
    "name": "ipython",
    "version": 3
   },
   "file_extension": ".py",
   "mimetype": "text/x-python",
   "name": "python",
   "nbconvert_exporter": "python",
   "pygments_lexer": "ipython3",
   "version": "3.7.3"
  }
 },
 "nbformat": 4,
 "nbformat_minor": 2
}
